{
 "cells": [
  {
   "cell_type": "markdown",
   "id": "0ed94875-a7b9-4f2d-b8f4-8779453342f8",
   "metadata": {},
   "source": [
    "# Modeling and clustering\n",
    "\n",
    "Для дальнейшей работы мы должны получить векторы сессий. Оставим за рамками исследования подбор модели и просто констатируем, что для получения вектора мы обучим модель word2vec по последовательностям event-ов. Так же за рамками мы оставим подбор параметров модели. В ходе экспериментов выяснилось, что на таких данных результаты моделей с кардинально отличающимися параметрами (например, размер вектора 10 против 200) практически не отличаются. Собственно, сам вектор сессии получается путем усреднения векторов ее токенов.\n",
    "\n",
    "Кластеризовать мы будем непосредственно векторы сессии. Логично использовать векторы word2vec для вычисления косинусного расстояния между сессиями. Но, напомню, что цель исследования - разработка алгоритма для работы в высоконагруженных системах в условиях ограниченных мощностей, а построение матрицы расстояний размерностью несколько сот тысяч для многих клиентов точно не подходит для таких систем.\n",
    "\n",
    "Для кластеризации мы используем KMeans, так как он крайне быстрый и хорошо работает с разреженными данными. Опять же за рамками остаются эксперименты с другими алгоритмами кластеризации."
   ]
  },
  {
   "cell_type": "code",
   "execution_count": 11,
   "id": "91dd5d2e-07fc-472e-9938-1fd29eea2cc0",
   "metadata": {},
   "outputs": [],
   "source": [
    "import pandas as pd\n",
    "import numpy as np\n",
    "from itertools import groupby\n",
    "from gensim.models.word2vec import Word2Vec\n",
    "from sklearn.cluster import KMeans\n",
    "from sklearn.metrics import silhouette_score\n",
    "from sklearn.manifold import TSNE\n",
    "import plotly.graph_objects as go\n",
    "import matplotlib.pyplot as plt\n",
    "from tqdm.notebook import tqdm"
   ]
  },
  {
   "cell_type": "code",
   "execution_count": 2,
   "id": "67ff8286-9aa2-4310-8cb3-7009271600d8",
   "metadata": {},
   "outputs": [],
   "source": [
    "dtype = {\n",
    "    'time': 'str',\n",
    "    'session_id': 'uint',\n",
    "    'event': 'str',\n",
    "}"
   ]
  },
  {
   "cell_type": "code",
   "execution_count": 3,
   "id": "97d97089-a8dd-4328-9c21-f5a344336be3",
   "metadata": {},
   "outputs": [
    {
     "data": {
      "text/html": [
       "<div>\n",
       "<style scoped>\n",
       "    .dataframe tbody tr th:only-of-type {\n",
       "        vertical-align: middle;\n",
       "    }\n",
       "\n",
       "    .dataframe tbody tr th {\n",
       "        vertical-align: top;\n",
       "    }\n",
       "\n",
       "    .dataframe thead th {\n",
       "        text-align: right;\n",
       "    }\n",
       "</style>\n",
       "<table border=\"1\" class=\"dataframe\">\n",
       "  <thead>\n",
       "    <tr style=\"text-align: right;\">\n",
       "      <th></th>\n",
       "      <th>time</th>\n",
       "      <th>session_id</th>\n",
       "      <th>event</th>\n",
       "    </tr>\n",
       "  </thead>\n",
       "  <tbody>\n",
       "    <tr>\n",
       "      <th>0</th>\n",
       "      <td>2022-02-07 18:43:07.694</td>\n",
       "      <td>3059192787115454724</td>\n",
       "      <td>/</td>\n",
       "    </tr>\n",
       "    <tr>\n",
       "      <th>1</th>\n",
       "      <td>2022-02-07 18:43:12.379</td>\n",
       "      <td>3059192787115454724</td>\n",
       "      <td>/</td>\n",
       "    </tr>\n",
       "    <tr>\n",
       "      <th>2</th>\n",
       "      <td>2022-02-07 18:43:14.382</td>\n",
       "      <td>3059192787115454724</td>\n",
       "      <td>/view/theme/content/js</td>\n",
       "    </tr>\n",
       "    <tr>\n",
       "      <th>3</th>\n",
       "      <td>2022-02-07 18:43:17.314</td>\n",
       "      <td>3059192787115454724</td>\n",
       "      <td>/xhr/cart/</td>\n",
       "    </tr>\n",
       "    <tr>\n",
       "      <th>4</th>\n",
       "      <td>2022-02-07 18:43:17.330</td>\n",
       "      <td>3059192787115454724</td>\n",
       "      <td>/xhr/productsliders/</td>\n",
       "    </tr>\n",
       "  </tbody>\n",
       "</table>\n",
       "</div>"
      ],
      "text/plain": [
       "                      time           session_id                   event\n",
       "0  2022-02-07 18:43:07.694  3059192787115454724                       /\n",
       "1  2022-02-07 18:43:12.379  3059192787115454724                       /\n",
       "2  2022-02-07 18:43:14.382  3059192787115454724  /view/theme/content/js\n",
       "3  2022-02-07 18:43:17.314  3059192787115454724              /xhr/cart/\n",
       "4  2022-02-07 18:43:17.330  3059192787115454724    /xhr/productsliders/"
      ]
     },
     "execution_count": 3,
     "metadata": {},
     "output_type": "execute_result"
    }
   ],
   "source": [
    "data = pd.read_csv('data_with_events.csv', dtype=dtype)\n",
    "data.head()"
   ]
  },
  {
   "cell_type": "code",
   "execution_count": 4,
   "id": "abd5b1bf-4bac-4349-b4be-a6908d764493",
   "metadata": {},
   "outputs": [],
   "source": [
    "data = data.sort_values(['session_id', 'time']).reset_index(drop=True)"
   ]
  },
  {
   "cell_type": "markdown",
   "id": "367ba031-7943-4e9a-b465-7efa190fbfb5",
   "metadata": {},
   "source": [
    "Преобразование сессий в последовательность токенов:"
   ]
  },
  {
   "cell_type": "code",
   "execution_count": 5,
   "id": "12cfdc71-dc2b-428b-b318-29088cbde0bd",
   "metadata": {},
   "outputs": [],
   "source": [
    "session_ids = []\n",
    "sequences = []\n",
    "for session_id, session in groupby(data.itertuples(), key=lambda x: x.session_id):\n",
    "    session = list(session)\n",
    "    session_ids.append(session_id)\n",
    "    sequences.append(list(map(lambda x: x.event, session)))\n",
    "session_ids = np.array(session_ids, dtype='uint')"
   ]
  },
  {
   "cell_type": "markdown",
   "id": "52294d6c-30c1-4de8-81c6-69be3c2a1538",
   "metadata": {},
   "source": [
    "Обучение модели и получение векторов сессии. На основе результатов предыдущего этапа длина сессии ограничивается 100 запросами."
   ]
  },
  {
   "cell_type": "code",
   "execution_count": 6,
   "id": "0dc24be6-aab7-4858-8e7e-5a6bafa5b56f",
   "metadata": {},
   "outputs": [],
   "source": [
    "model = Word2Vec(sequences, window=3, min_count=1, vector_size=10, epochs=10, sg=1)\n",
    "vectors = []\n",
    "for sequence in sequences:\n",
    "    if sequence == []:\n",
    "        vectors.append(np.zeros(model.vector_size))\n",
    "    else:\n",
    "        vectors.append(np.mean(model.wv[sequence[:100]], axis=0))\n",
    "vectors = np.array(vectors)"
   ]
  },
  {
   "cell_type": "code",
   "execution_count": 7,
   "id": "8abfa2b3-cba6-443a-a8fc-bffb739afa81",
   "metadata": {},
   "outputs": [
    {
     "data": {
      "text/plain": [
       "(167341, 10)"
      ]
     },
     "execution_count": 7,
     "metadata": {},
     "output_type": "execute_result"
    }
   ],
   "source": [
    "vectors.shape"
   ]
  },
  {
   "cell_type": "markdown",
   "id": "65fd5ba6-e133-4fd0-9b26-d848b5f03cec",
   "metadata": {},
   "source": [
    "Выбор 10 тысяч случайных сессий для подбора количества кластеров и визуализации в 2-мерном пространстве."
   ]
  },
  {
   "cell_type": "code",
   "execution_count": 8,
   "id": "d125fbd0-1e51-4b92-b202-ba33121e6c58",
   "metadata": {},
   "outputs": [],
   "source": [
    "rand_ids = np.random.randint(0, len(vectors), 10000)"
   ]
  },
  {
   "cell_type": "markdown",
   "id": "43a72797-edb3-4271-9567-dce5ee5e9e7c",
   "metadata": {},
   "source": [
    "Подбор кластеров будет осуществляться по оптимальной силуэтной метрике, либо по методу локтя. Если повезет - по обоим способам."
   ]
  },
  {
   "cell_type": "code",
   "execution_count": 9,
   "id": "a2daa815-3ada-4535-bd5d-21087a8eb9a4",
   "metadata": {},
   "outputs": [],
   "source": [
    "def kmeans_results(X):\n",
    "    inertias = []\n",
    "    sil_scores = []\n",
    "    n_iter = range(2, 20)\n",
    "    for i in tqdm(n_iter):\n",
    "        kmeans = KMeans(n_clusters=i).fit(X)\n",
    "        inertias.append(kmeans.inertia_)\n",
    "        sil_scores.append(silhouette_score(X, kmeans.labels_))\n",
    "        \n",
    "    plt.figure()\n",
    "    plt.plot(n_iter, inertias, marker='o')\n",
    "    plt.xticks(n_iter)\n",
    "    plt.title('The elbow method')\n",
    "    plt.grid(True)\n",
    "    plt.show()\n",
    "    \n",
    "    plt.figure()\n",
    "    plt.plot(n_iter, sil_scores, marker='o')\n",
    "    plt.xticks(n_iter)\n",
    "    plt.title('The silhouette coefficient method')\n",
    "    plt.grid(True)\n",
    "    plt.show()"
   ]
  },
  {
   "cell_type": "code",
   "execution_count": 12,
   "id": "79331bdd-0867-42b4-a0e3-0de332044bbf",
   "metadata": {},
   "outputs": [
    {
     "data": {
      "application/vnd.jupyter.widget-view+json": {
       "model_id": "2402aa1bbad24a7db118fab12ff5c6ba",
       "version_major": 2,
       "version_minor": 0
      },
      "text/plain": [
       "  0%|          | 0/18 [00:00<?, ?it/s]"
      ]
     },
     "metadata": {},
     "output_type": "display_data"
    },
    {
     "data": {
      "image/png": "[encoded data removed]",
      "text/plain": [
       "<Figure size 432x288 with 1 Axes>"
      ]
     },
     "metadata": {
      "needs_background": "light"
     },
     "output_type": "display_data"
    },
    {
     "data": {
      "image/png": "[encoded data removed]",
      "text/plain": [
       "<Figure size 432x288 with 1 Axes>"
      ]
     },
     "metadata": {
      "needs_background": "light"
     },
     "output_type": "display_data"
    }
   ],
   "source": [
    "kmeans_results(vectors[rand_ids])"
   ]
  },
  {
   "cell_type": "markdown",
   "id": "2e9fbe1e-6150-431e-95d0-ebaaee954aac",
   "metadata": {},
   "source": [
    "Не повезло, выберем 10 кластеров по силуэтной метрике"
   ]
  },
  {
   "cell_type": "code",
   "execution_count": 13,
   "id": "c53ab457-cef1-4fea-935f-56cdfcd95da4",
   "metadata": {},
   "outputs": [
    {
     "data": {
      "text/plain": [
       "KMeans(max_iter=1000, n_clusters=10, n_init=50)"
      ]
     },
     "execution_count": 13,
     "metadata": {},
     "output_type": "execute_result"
    }
   ],
   "source": [
    "kmeans = KMeans(10, max_iter=1000, n_init=50)\n",
    "kmeans.fit(vectors)"
   ]
  },
  {
   "cell_type": "markdown",
   "id": "5a432f63-8c0c-49ce-851e-bc30331f065a",
   "metadata": {},
   "source": [
    "Для представления в 2-мерном пространстве используем TSNE. В качестве альтернативы рассматривался UMAP, но он оказался очень чувствителен к шуму, которого в данных очень много - это те самые короткие сессии из 1-5 запросов."
   ]
  },
  {
   "cell_type": "code",
   "execution_count": 14,
   "id": "90958faf-98df-471e-a86e-d87020740065",
   "metadata": {},
   "outputs": [
    {
     "name": "stderr",
     "output_type": "stream",
     "text": [
      "/home/alexander/complete/lib/python3.8/site-packages/sklearn/manifold/_t_sne.py:780: FutureWarning: The default initialization in TSNE will change from 'random' to 'pca' in 1.2.\n",
      "  warnings.warn(\n",
      "/home/alexander/complete/lib/python3.8/site-packages/sklearn/manifold/_t_sne.py:790: FutureWarning: The default learning rate in TSNE will change from 200.0 to 'auto' in 1.2.\n",
      "  warnings.warn(\n"
     ]
    }
   ],
   "source": [
    "mapper = TSNE(n_components=2, perplexity=300)\n",
    "X_emb = mapper.fit_transform(vectors[rand_ids])"
   ]
  },
  {
   "cell_type": "markdown",
   "id": "f596f55f-e079-400d-a327-468fd14ec2fb",
   "metadata": {},
   "source": [
    "Подготовим данные для визуализации."
   ]
  },
  {
   "cell_type": "code",
   "execution_count": 15,
   "id": "016b60e2-2418-4573-b565-2ac3fec8f2e4",
   "metadata": {},
   "outputs": [],
   "source": [
    "clusters = pd.DataFrame(session_ids[rand_ids], columns=['session_id'])\n",
    "clusters['cluster'] = kmeans.labels_[rand_ids]\n",
    "clusters['x1'] = X_emb[:, 0]\n",
    "clusters['x2'] = X_emb[:, 1]\n",
    "clusters['session'] = clusters.session_id.apply(lambda x: '<br>'.join(data[data.session_id == x].event[:30].to_list()))"
   ]
  },
  {
   "cell_type": "code",
   "execution_count": 16,
   "id": "2baa651a-8873-4dd4-be8e-f224dd068235",
   "metadata": {},
   "outputs": [],
   "source": [
    "traffic = data[data.session_id.isin(clusters.session_id)]"
   ]
  },
  {
   "cell_type": "code",
   "execution_count": 17,
   "id": "07fc1c45-52f8-403f-be0c-c56de55fc3ba",
   "metadata": {},
   "outputs": [],
   "source": [
    "def make_html_plot(clusters, traffic):\n",
    "    fig = go.Figure()\n",
    "    for cluster in sorted(clusters.cluster.unique()):\n",
    "        cluster_slice = clusters[clusters.cluster == cluster]\n",
    "        session_volume = cluster_slice.shape[0] / clusters.shape[0]\n",
    "        traffic_volume = traffic[traffic.session_id.isin(cluster_slice.session_id)].shape[0] / traffic.shape[0]\n",
    "        fig.add_trace(\n",
    "            go.Scatter(\n",
    "                x=cluster_slice.x1,\n",
    "                y=cluster_slice.x2,\n",
    "                mode='markers',\n",
    "                text=cluster_slice.session,\n",
    "                name=f\"Cluster {cluster}.<br>Sessions volume {session_volume:.2%}<br>traffic_volume {traffic_volume:.2%}\"\n",
    "            )\n",
    "        )\n",
    "    fig.update_layout(\n",
    "        width = 1000,\n",
    "        height = 800,\n",
    "        title = f\"Clusters\"\n",
    "    )\n",
    "    fig.update_yaxes(\n",
    "        scaleanchor = \"x\",\n",
    "        scaleratio = 1\n",
    "    )\n",
    "    return fig"
   ]
  },
  {
   "cell_type": "markdown",
   "id": "877ee532-086c-47cc-9bd5-ca8275601e9f",
   "metadata": {},
   "source": [
    "На графике при наведении на точку будут отображены первые 30 запросов соотетствующей сессии."
   ]
  },
  {
   "cell_type": "code",
   "execution_count": 18,
   "id": "574c77f9-19a5-4145-a30e-527d87feb323",
   "metadata": {},
   "outputs": [],
   "source": [
    "fig = make_html_plot(clusters, traffic)"
   ]
  },
  {
   "cell_type": "code",
   "execution_count": 19,
   "id": "bc9a2c51-dd11-4722-8524-2ef698679109",
   "metadata": {},
   "outputs": [],
   "source": [
    "fig.write_html('clusters.html')"
   ]
  },
  {
   "cell_type": "markdown",
   "id": "02e68d40-60f3-4370-a0bd-26283215539f",
   "metadata": {
    "tags": []
   },
   "source": [
    "### Интерпретация результатов\n",
    "\n",
    "Как видно, алгоритм хорошо справился с отдельно стоящими кластерами, которые представлены сессиями преимущественно из одного и того же event-а. Разные event-ы - разные кластеры. Наблюдется смешанное из 3 кластеров плотное скопление точек в центре, но если посмотреть на сессии каждого кластера, то становится очевидным, что разделение имеет логику. В первом (красном) кластере преобладает загрузка статики в сессиях, в третьем (фиолетовом) - загрузка контента, а в пятом (голубом) - запросы к корзине.\n",
    "\n",
    "Для последующей экспертной оценки такие кластеры подходят"
   ]
  },
  {
   "cell_type": "code",
   "execution_count": null,
   "id": "d7bc65eb-85e6-4124-b8bc-c3f4b6183926",
   "metadata": {},
   "outputs": [],
   "source": []
  }
 ],
 "metadata": {
  "kernelspec": {
   "display_name": "Python 3 (ipykernel)",
   "language": "python",
   "name": "python3"
  },
  "language_info": {
   "codemirror_mode": {
    "name": "ipython",
    "version": 3
   },
   "file_extension": ".py",
   "mimetype": "text/x-python",
   "name": "python",
   "nbconvert_exporter": "python",
   "pygments_lexer": "ipython3",
   "version": "3.8.10"
  }
 },
 "nbformat": 4,
 "nbformat_minor": 5
}
