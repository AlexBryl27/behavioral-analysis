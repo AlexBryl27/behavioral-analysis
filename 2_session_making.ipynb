{
 "cells": [
  {
   "cell_type": "markdown",
   "id": "2c7b19ac-2bc8-40ca-b273-20fa236a7876",
   "metadata": {},
   "source": [
    "# Session making\n",
    "\n",
    "На этом этапе необходимо отделить сессии каждого пользователя. Запросы пользователя относятся к разным сессиям, если между ними прошло более некоторого фиксированного количества времени."
   ]
  },
  {
   "cell_type": "code",
   "execution_count": 1,
   "id": "c0576ffb-d80a-421b-aa42-0e97800f1f02",
   "metadata": {},
   "outputs": [],
   "source": [
    "import pandas as pd\n",
    "from tqdm.notebook import tqdm\n",
    "from itertools import groupby\n",
    "from numpy import timedelta64\n",
    "import sys"
   ]
  },
  {
   "cell_type": "code",
   "execution_count": 2,
   "id": "c43ec8db-050b-4deb-87a8-3412ad3a3968",
   "metadata": {},
   "outputs": [],
   "source": [
    "dtype = {\n",
    "    'time': 'str',\n",
    "    'request_uri': 'str',\n",
    "    'user_id': 'int'\n",
    "}"
   ]
  },
  {
   "cell_type": "code",
   "execution_count": 3,
   "id": "6045c458-5d9d-4820-9bb7-68709b650e14",
   "metadata": {},
   "outputs": [
    {
     "data": {
      "text/html": [
       "<div>\n",
       "<style scoped>\n",
       "    .dataframe tbody tr th:only-of-type {\n",
       "        vertical-align: middle;\n",
       "    }\n",
       "\n",
       "    .dataframe tbody tr th {\n",
       "        vertical-align: top;\n",
       "    }\n",
       "\n",
       "    .dataframe thead th {\n",
       "        text-align: right;\n",
       "    }\n",
       "</style>\n",
       "<table border=\"1\" class=\"dataframe\">\n",
       "  <thead>\n",
       "    <tr style=\"text-align: right;\">\n",
       "      <th></th>\n",
       "      <th>time</th>\n",
       "      <th>user_id</th>\n",
       "      <th>request_uri</th>\n",
       "    </tr>\n",
       "  </thead>\n",
       "  <tbody>\n",
       "    <tr>\n",
       "      <th>0</th>\n",
       "      <td>2022-02-07 11:40:25.020</td>\n",
       "      <td>4761465809854368106</td>\n",
       "      <td>/goods/324570/gz0473/</td>\n",
       "    </tr>\n",
       "    <tr>\n",
       "      <th>1</th>\n",
       "      <td>2022-02-07 11:40:25.026</td>\n",
       "      <td>4761465809854368106</td>\n",
       "      <td>/goods/338875/dh3718-105/</td>\n",
       "    </tr>\n",
       "    <tr>\n",
       "      <th>2</th>\n",
       "      <td>2022-02-07 11:40:25.046</td>\n",
       "      <td>14823100236334183709</td>\n",
       "      <td>/getproductsize/339316/</td>\n",
       "    </tr>\n",
       "    <tr>\n",
       "      <th>3</th>\n",
       "      <td>2022-02-07 11:40:25.047</td>\n",
       "      <td>14823100236334183709</td>\n",
       "      <td>/getproductsize/342531/</td>\n",
       "    </tr>\n",
       "    <tr>\n",
       "      <th>4</th>\n",
       "      <td>2022-02-07 11:40:25.052</td>\n",
       "      <td>14823100236334183709</td>\n",
       "      <td>/getproductsize/338875/</td>\n",
       "    </tr>\n",
       "  </tbody>\n",
       "</table>\n",
       "</div>"
      ],
      "text/plain": [
       "                     time               user_id                request_uri\n",
       "0 2022-02-07 11:40:25.020   4761465809854368106      /goods/324570/gz0473/\n",
       "1 2022-02-07 11:40:25.026   4761465809854368106  /goods/338875/dh3718-105/\n",
       "2 2022-02-07 11:40:25.046  14823100236334183709    /getproductsize/339316/\n",
       "3 2022-02-07 11:40:25.047  14823100236334183709    /getproductsize/342531/\n",
       "4 2022-02-07 11:40:25.052  14823100236334183709    /getproductsize/338875/"
      ]
     },
     "execution_count": 3,
     "metadata": {},
     "output_type": "execute_result"
    }
   ],
   "source": [
    "data = pd.read_csv('data_with_uids.csv', parse_dates=['time'])\n",
    "data.head()"
   ]
  },
  {
   "cell_type": "markdown",
   "id": "c2af1a23-44e3-40ce-b793-82ad25e366ad",
   "metadata": {},
   "source": [
    "Взгляд из будущего, поэтому есть колонка session_id.\n",
    "\n",
    "Изначально планировалось поставить 30-минутный интервал, но тогда проявляются такие случаи - один запрос ровно каждые 30 минут. Так мы генерируем очень много однозапросных сессий, причем явно автоматических. При исследовании данных были найдены аналогичные сессии с одним запросом каждый час и т.д. \n",
    "\n",
    "Обрабатывая данные постфактум, такие сессии можно было бы объединить, вычисляя одинаковые интервалы между запросами. Но т.к. изначальная цель исследования - работа в высоконагруженных системах, в которых информация о предыдущем запросе хранилась бы в кэшах, а размеры кэшей не безграничны, то на данном этапе мы проигнорируем эти экстремальные случаи. Установим время между сессиями между чуть больше часа."
   ]
  },
  {
   "cell_type": "code",
   "execution_count": 44,
   "id": "80a8eeb9-405c-4f7e-a52b-747966e7d2b6",
   "metadata": {},
   "outputs": [
    {
     "data": {
      "text/html": [
       "<div>\n",
       "<style scoped>\n",
       "    .dataframe tbody tr th:only-of-type {\n",
       "        vertical-align: middle;\n",
       "    }\n",
       "\n",
       "    .dataframe tbody tr th {\n",
       "        vertical-align: top;\n",
       "    }\n",
       "\n",
       "    .dataframe thead th {\n",
       "        text-align: right;\n",
       "    }\n",
       "</style>\n",
       "<table border=\"1\" class=\"dataframe\">\n",
       "  <thead>\n",
       "    <tr style=\"text-align: right;\">\n",
       "      <th></th>\n",
       "      <th>time</th>\n",
       "      <th>user_id</th>\n",
       "      <th>request_uri</th>\n",
       "      <th>session_id</th>\n",
       "    </tr>\n",
       "  </thead>\n",
       "  <tbody>\n",
       "    <tr>\n",
       "      <th>2862012</th>\n",
       "      <td>2022-02-07 12:30:31.246</td>\n",
       "      <td>9939449780910933933</td>\n",
       "      <td>/goods/307314/gz7925/?utm_source=admitad&amp;utm_m...</td>\n",
       "      <td>1090664216913957605</td>\n",
       "    </tr>\n",
       "    <tr>\n",
       "      <th>2862013</th>\n",
       "      <td>2022-02-07 13:00:44.770</td>\n",
       "      <td>9939449780910933933</td>\n",
       "      <td>/goods/307314/gz7925/?utm_source=admitad&amp;utm_m...</td>\n",
       "      <td>17369990914576409682</td>\n",
       "    </tr>\n",
       "    <tr>\n",
       "      <th>2862014</th>\n",
       "      <td>2022-02-07 13:31:32.107</td>\n",
       "      <td>9939449780910933933</td>\n",
       "      <td>/goods/307314/gz7925/?utm_source=admitad&amp;utm_m...</td>\n",
       "      <td>15834699945482332110</td>\n",
       "    </tr>\n",
       "    <tr>\n",
       "      <th>2862015</th>\n",
       "      <td>2022-02-07 14:01:36.960</td>\n",
       "      <td>9939449780910933933</td>\n",
       "      <td>/goods/307314/gz7925/?utm_source=admitad&amp;utm_m...</td>\n",
       "      <td>14243134369053703796</td>\n",
       "    </tr>\n",
       "    <tr>\n",
       "      <th>2862016</th>\n",
       "      <td>2022-02-07 14:32:01.612</td>\n",
       "      <td>9939449780910933933</td>\n",
       "      <td>/goods/307314/gz7925/?utm_source=admitad&amp;utm_m...</td>\n",
       "      <td>484967644754431213</td>\n",
       "    </tr>\n",
       "    <tr>\n",
       "      <th>2862017</th>\n",
       "      <td>2022-02-07 15:01:52.619</td>\n",
       "      <td>9939449780910933933</td>\n",
       "      <td>/goods/307314/gz7925/?utm_source=admitad&amp;utm_m...</td>\n",
       "      <td>484967644754431213</td>\n",
       "    </tr>\n",
       "    <tr>\n",
       "      <th>2862018</th>\n",
       "      <td>2022-02-07 15:32:10.059</td>\n",
       "      <td>9939449780910933933</td>\n",
       "      <td>/goods/307314/gz7925/?utm_source=admitad&amp;utm_m...</td>\n",
       "      <td>6569447469050011601</td>\n",
       "    </tr>\n",
       "    <tr>\n",
       "      <th>2862019</th>\n",
       "      <td>2022-02-07 16:03:07.059</td>\n",
       "      <td>9939449780910933933</td>\n",
       "      <td>/goods/307314/gz7925/?utm_source=admitad&amp;utm_m...</td>\n",
       "      <td>3782797762208600156</td>\n",
       "    </tr>\n",
       "    <tr>\n",
       "      <th>2862020</th>\n",
       "      <td>2022-02-07 16:33:25.588</td>\n",
       "      <td>9939449780910933933</td>\n",
       "      <td>/goods/307314/gz7925/?utm_source=admitad&amp;utm_m...</td>\n",
       "      <td>7426380994846504448</td>\n",
       "    </tr>\n",
       "    <tr>\n",
       "      <th>2862021</th>\n",
       "      <td>2022-02-07 17:03:27.351</td>\n",
       "      <td>9939449780910933933</td>\n",
       "      <td>/goods/307314/gz7925/?utm_source=admitad&amp;utm_m...</td>\n",
       "      <td>14182184636990323995</td>\n",
       "    </tr>\n",
       "  </tbody>\n",
       "</table>\n",
       "</div>"
      ],
      "text/plain": [
       "                           time              user_id  \\\n",
       "2862012 2022-02-07 12:30:31.246  9939449780910933933   \n",
       "2862013 2022-02-07 13:00:44.770  9939449780910933933   \n",
       "2862014 2022-02-07 13:31:32.107  9939449780910933933   \n",
       "2862015 2022-02-07 14:01:36.960  9939449780910933933   \n",
       "2862016 2022-02-07 14:32:01.612  9939449780910933933   \n",
       "2862017 2022-02-07 15:01:52.619  9939449780910933933   \n",
       "2862018 2022-02-07 15:32:10.059  9939449780910933933   \n",
       "2862019 2022-02-07 16:03:07.059  9939449780910933933   \n",
       "2862020 2022-02-07 16:33:25.588  9939449780910933933   \n",
       "2862021 2022-02-07 17:03:27.351  9939449780910933933   \n",
       "\n",
       "                                               request_uri  \\\n",
       "2862012  /goods/307314/gz7925/?utm_source=admitad&utm_m...   \n",
       "2862013  /goods/307314/gz7925/?utm_source=admitad&utm_m...   \n",
       "2862014  /goods/307314/gz7925/?utm_source=admitad&utm_m...   \n",
       "2862015  /goods/307314/gz7925/?utm_source=admitad&utm_m...   \n",
       "2862016  /goods/307314/gz7925/?utm_source=admitad&utm_m...   \n",
       "2862017  /goods/307314/gz7925/?utm_source=admitad&utm_m...   \n",
       "2862018  /goods/307314/gz7925/?utm_source=admitad&utm_m...   \n",
       "2862019  /goods/307314/gz7925/?utm_source=admitad&utm_m...   \n",
       "2862020  /goods/307314/gz7925/?utm_source=admitad&utm_m...   \n",
       "2862021  /goods/307314/gz7925/?utm_source=admitad&utm_m...   \n",
       "\n",
       "                   session_id  \n",
       "2862012   1090664216913957605  \n",
       "2862013  17369990914576409682  \n",
       "2862014  15834699945482332110  \n",
       "2862015  14243134369053703796  \n",
       "2862016    484967644754431213  \n",
       "2862017    484967644754431213  \n",
       "2862018   6569447469050011601  \n",
       "2862019   3782797762208600156  \n",
       "2862020   7426380994846504448  \n",
       "2862021  14182184636990323995  "
      ]
     },
     "execution_count": 44,
     "metadata": {},
     "output_type": "execute_result"
    }
   ],
   "source": [
    "data[data.user_id == 9939449780910933933].iloc[:10]"
   ]
  },
  {
   "cell_type": "code",
   "execution_count": 29,
   "id": "1e045742-8feb-4c48-8693-ae10c032384b",
   "metadata": {},
   "outputs": [],
   "source": [
    "data = data.sort_values([key_column, 'time']).reset_index(drop=True)"
   ]
  },
  {
   "cell_type": "markdown",
   "id": "1b71ad13-5783-4941-afd4-c24a6686577b",
   "metadata": {},
   "source": [
    "Алгоритм описывать нет смысла, т.к. результат его работы ясен."
   ]
  },
  {
   "cell_type": "code",
   "execution_count": 30,
   "id": "35bbc4d6-5eee-418b-b03f-77163cc2bd81",
   "metadata": {},
   "outputs": [],
   "source": [
    "def get_session_id(data, key_column, session_time_delta):\n",
    "    user_idx = []\n",
    "    session_ids = []\n",
    "    n_users = data[key_column].nunique()\n",
    "    key_idx = data.columns.to_list().index(key_column)\n",
    "    for _, sessions in tqdm(groupby(data.itertuples(), key=lambda x: x[key_idx+1]), total=n_users):\n",
    "        sessions = pd.DataFrame(list(sessions)).set_index('Index')\n",
    "        user_idx += sessions.index.to_list()\n",
    "        sessions = sessions.reset_index(drop=True)\n",
    "        sessions['time_delta'] = (sessions.time.diff() / timedelta64(1, 's')).fillna(0).astype('int')\n",
    "        sessions['session_end'] = sessions['time_delta'] >= session_time_delta\n",
    "        sessions_sep = sessions[sessions['session_end']].index.to_list()\n",
    "        sessions_sep.append(len(sessions))\n",
    "        start_idx = 0\n",
    "        for sep in sessions_sep:\n",
    "            session_id = hash(tuple(sessions.loc[start_idx, ['time', key_column]])) + sys.maxsize + 1\n",
    "            session_ids += [session_id] * (sep - start_idx)\n",
    "            start_idx = sep\n",
    "    return [x for _, x in sorted(zip(user_idx, session_ids))]"
   ]
  },
  {
   "cell_type": "code",
   "execution_count": 59,
   "id": "a5ed7825-2520-4f88-8df8-4112acab09cc",
   "metadata": {},
   "outputs": [
    {
     "data": {
      "application/vnd.jupyter.widget-view+json": {
       "model_id": "f5d3197c6cf840828aecfd3abbbab492",
       "version_major": 2,
       "version_minor": 0
      },
      "text/plain": [
       "  0%|          | 0/133150 [00:00<?, ?it/s]"
      ]
     },
     "metadata": {},
     "output_type": "display_data"
    }
   ],
   "source": [
    "data['session_id'] = get_session_id(data, 'user_id', 3610)"
   ]
  },
  {
   "cell_type": "markdown",
   "id": "6bb7c4af-b856-4de4-bdfa-8a74fa6a0dd1",
   "metadata": {},
   "source": [
    "Взглянем на пользователя с самым высоким количеством сессий."
   ]
  },
  {
   "cell_type": "code",
   "execution_count": 60,
   "id": "f9074370-42f9-4a74-9bb3-61ea1de61b03",
   "metadata": {},
   "outputs": [
    {
     "data": {
      "text/html": [
       "<div>\n",
       "<style scoped>\n",
       "    .dataframe tbody tr th:only-of-type {\n",
       "        vertical-align: middle;\n",
       "    }\n",
       "\n",
       "    .dataframe tbody tr th {\n",
       "        vertical-align: top;\n",
       "    }\n",
       "\n",
       "    .dataframe thead th {\n",
       "        text-align: right;\n",
       "    }\n",
       "</style>\n",
       "<table border=\"1\" class=\"dataframe\">\n",
       "  <thead>\n",
       "    <tr style=\"text-align: right;\">\n",
       "      <th></th>\n",
       "      <th>session_id</th>\n",
       "    </tr>\n",
       "    <tr>\n",
       "      <th>user_id</th>\n",
       "      <th></th>\n",
       "    </tr>\n",
       "  </thead>\n",
       "  <tbody>\n",
       "    <tr>\n",
       "      <th>141794952076039</th>\n",
       "      <td>1</td>\n",
       "    </tr>\n",
       "    <tr>\n",
       "      <th>11862430843268585240</th>\n",
       "      <td>1</td>\n",
       "    </tr>\n",
       "    <tr>\n",
       "      <th>11862196800186121998</th>\n",
       "      <td>1</td>\n",
       "    </tr>\n",
       "    <tr>\n",
       "      <th>11862135496675336285</th>\n",
       "      <td>1</td>\n",
       "    </tr>\n",
       "    <tr>\n",
       "      <th>11861724342804615139</th>\n",
       "      <td>1</td>\n",
       "    </tr>\n",
       "    <tr>\n",
       "      <th>...</th>\n",
       "      <td>...</td>\n",
       "    </tr>\n",
       "    <tr>\n",
       "      <th>12431648224065138427</th>\n",
       "      <td>14</td>\n",
       "    </tr>\n",
       "    <tr>\n",
       "      <th>4498887783926750954</th>\n",
       "      <td>15</td>\n",
       "    </tr>\n",
       "    <tr>\n",
       "      <th>17626080394710213342</th>\n",
       "      <td>19</td>\n",
       "    </tr>\n",
       "    <tr>\n",
       "      <th>10097810512167771337</th>\n",
       "      <td>21</td>\n",
       "    </tr>\n",
       "    <tr>\n",
       "      <th>16093171809055456616</th>\n",
       "      <td>22</td>\n",
       "    </tr>\n",
       "  </tbody>\n",
       "</table>\n",
       "<p>133150 rows × 1 columns</p>\n",
       "</div>"
      ],
      "text/plain": [
       "                      session_id\n",
       "user_id                         \n",
       "141794952076039                1\n",
       "11862430843268585240           1\n",
       "11862196800186121998           1\n",
       "11862135496675336285           1\n",
       "11861724342804615139           1\n",
       "...                          ...\n",
       "12431648224065138427          14\n",
       "4498887783926750954           15\n",
       "17626080394710213342          19\n",
       "10097810512167771337          21\n",
       "16093171809055456616          22\n",
       "\n",
       "[133150 rows x 1 columns]"
      ]
     },
     "execution_count": 60,
     "metadata": {},
     "output_type": "execute_result"
    }
   ],
   "source": [
    "data.groupby('user_id').nunique().sort_values('session_id')[['session_id']]"
   ]
  },
  {
   "cell_type": "markdown",
   "id": "441fcf1d-8d01-4a37-9c44-78e89138def0",
   "metadata": {},
   "source": [
    "Между запросами прошел 1 час и полторы минуты. С учетом того, сессии получились не однозапросными, то результат приемлем."
   ]
  },
  {
   "cell_type": "code",
   "execution_count": 61,
   "id": "8b37cff6-b710-45ec-bc0f-17461df94374",
   "metadata": {},
   "outputs": [
    {
     "data": {
      "text/html": [
       "<div>\n",
       "<style scoped>\n",
       "    .dataframe tbody tr th:only-of-type {\n",
       "        vertical-align: middle;\n",
       "    }\n",
       "\n",
       "    .dataframe tbody tr th {\n",
       "        vertical-align: top;\n",
       "    }\n",
       "\n",
       "    .dataframe thead th {\n",
       "        text-align: right;\n",
       "    }\n",
       "</style>\n",
       "<table border=\"1\" class=\"dataframe\">\n",
       "  <thead>\n",
       "    <tr style=\"text-align: right;\">\n",
       "      <th></th>\n",
       "      <th>time</th>\n",
       "      <th>user_id</th>\n",
       "      <th>request_uri</th>\n",
       "      <th>session_id</th>\n",
       "    </tr>\n",
       "  </thead>\n",
       "  <tbody>\n",
       "    <tr>\n",
       "      <th>4886220</th>\n",
       "      <td>2022-02-07 12:22:05.448</td>\n",
       "      <td>16093171809055456616</td>\n",
       "      <td>/</td>\n",
       "      <td>7933271405150888027</td>\n",
       "    </tr>\n",
       "    <tr>\n",
       "      <th>4886221</th>\n",
       "      <td>2022-02-07 12:22:05.610</td>\n",
       "      <td>16093171809055456616</td>\n",
       "      <td>/</td>\n",
       "      <td>7933271405150888027</td>\n",
       "    </tr>\n",
       "    <tr>\n",
       "      <th>4886222</th>\n",
       "      <td>2022-02-07 12:22:05.885</td>\n",
       "      <td>16093171809055456616</td>\n",
       "      <td>/</td>\n",
       "      <td>7933271405150888027</td>\n",
       "    </tr>\n",
       "    <tr>\n",
       "      <th>4886223</th>\n",
       "      <td>2022-02-07 12:22:06.112</td>\n",
       "      <td>16093171809055456616</td>\n",
       "      <td>/</td>\n",
       "      <td>7933271405150888027</td>\n",
       "    </tr>\n",
       "    <tr>\n",
       "      <th>4886224</th>\n",
       "      <td>2022-02-07 12:22:06.279</td>\n",
       "      <td>16093171809055456616</td>\n",
       "      <td>/</td>\n",
       "      <td>7933271405150888027</td>\n",
       "    </tr>\n",
       "    <tr>\n",
       "      <th>4886225</th>\n",
       "      <td>2022-02-07 12:22:06.455</td>\n",
       "      <td>16093171809055456616</td>\n",
       "      <td>/</td>\n",
       "      <td>7933271405150888027</td>\n",
       "    </tr>\n",
       "    <tr>\n",
       "      <th>4886226</th>\n",
       "      <td>2022-02-07 13:23:28.419</td>\n",
       "      <td>16093171809055456616</td>\n",
       "      <td>/</td>\n",
       "      <td>6153582191130136406</td>\n",
       "    </tr>\n",
       "    <tr>\n",
       "      <th>4886227</th>\n",
       "      <td>2022-02-07 13:23:28.637</td>\n",
       "      <td>16093171809055456616</td>\n",
       "      <td>/</td>\n",
       "      <td>6153582191130136406</td>\n",
       "    </tr>\n",
       "    <tr>\n",
       "      <th>4886228</th>\n",
       "      <td>2022-02-07 13:23:28.800</td>\n",
       "      <td>16093171809055456616</td>\n",
       "      <td>/</td>\n",
       "      <td>6153582191130136406</td>\n",
       "    </tr>\n",
       "    <tr>\n",
       "      <th>4886229</th>\n",
       "      <td>2022-02-07 13:23:28.992</td>\n",
       "      <td>16093171809055456616</td>\n",
       "      <td>/</td>\n",
       "      <td>6153582191130136406</td>\n",
       "    </tr>\n",
       "  </tbody>\n",
       "</table>\n",
       "</div>"
      ],
      "text/plain": [
       "                           time               user_id request_uri  \\\n",
       "4886220 2022-02-07 12:22:05.448  16093171809055456616           /   \n",
       "4886221 2022-02-07 12:22:05.610  16093171809055456616           /   \n",
       "4886222 2022-02-07 12:22:05.885  16093171809055456616           /   \n",
       "4886223 2022-02-07 12:22:06.112  16093171809055456616           /   \n",
       "4886224 2022-02-07 12:22:06.279  16093171809055456616           /   \n",
       "4886225 2022-02-07 12:22:06.455  16093171809055456616           /   \n",
       "4886226 2022-02-07 13:23:28.419  16093171809055456616           /   \n",
       "4886227 2022-02-07 13:23:28.637  16093171809055456616           /   \n",
       "4886228 2022-02-07 13:23:28.800  16093171809055456616           /   \n",
       "4886229 2022-02-07 13:23:28.992  16093171809055456616           /   \n",
       "\n",
       "                  session_id  \n",
       "4886220  7933271405150888027  \n",
       "4886221  7933271405150888027  \n",
       "4886222  7933271405150888027  \n",
       "4886223  7933271405150888027  \n",
       "4886224  7933271405150888027  \n",
       "4886225  7933271405150888027  \n",
       "4886226  6153582191130136406  \n",
       "4886227  6153582191130136406  \n",
       "4886228  6153582191130136406  \n",
       "4886229  6153582191130136406  "
      ]
     },
     "execution_count": 61,
     "metadata": {},
     "output_type": "execute_result"
    }
   ],
   "source": [
    "data[data.user_id == 16093171809055456616].iloc[:10]"
   ]
  },
  {
   "cell_type": "markdown",
   "id": "1681b359-8a91-4a67-9222-387eae99a167",
   "metadata": {},
   "source": [
    "Для дальнейших исследований будет полезно выяснить, какой вообще длины сессии в наших данных"
   ]
  },
  {
   "cell_type": "code",
   "execution_count": 62,
   "id": "5d6045f3-f1c1-4fa5-bfb7-1bba708c8ce0",
   "metadata": {},
   "outputs": [],
   "source": [
    "session_lengths = data.session_id.value_counts()"
   ]
  },
  {
   "cell_type": "code",
   "execution_count": 76,
   "id": "3eb24c9f-7567-4f13-8396-cae00fc989c3",
   "metadata": {},
   "outputs": [
    {
     "data": {
      "text/plain": [
       "0.7408286074542402"
      ]
     },
     "execution_count": 76,
     "metadata": {},
     "output_type": "execute_result"
    }
   ],
   "source": [
    "session_lengths[session_lengths < 10].shape[0] / session_lengths.shape[0]"
   ]
  },
  {
   "cell_type": "code",
   "execution_count": 64,
   "id": "63ec3d1c-68b8-4ae9-a622-152f3c6dda02",
   "metadata": {},
   "outputs": [
    {
     "data": {
      "text/plain": [
       "0.019732163665808142"
      ]
     },
     "execution_count": 64,
     "metadata": {},
     "output_type": "execute_result"
    }
   ],
   "source": [
    "session_lengths[session_lengths > 100].shape[0] / session_lengths.shape[0]"
   ]
  },
  {
   "cell_type": "code",
   "execution_count": 71,
   "id": "13a4ce55-2208-4199-b486-aa6b2dbeda63",
   "metadata": {},
   "outputs": [
    {
     "data": {
      "text/plain": [
       "<AxesSubplot:>"
      ]
     },
     "execution_count": 71,
     "metadata": {},
     "output_type": "execute_result"
    },
    {
     "data": {
      "image/png": "[encoded data removed]",
      "text/plain": [
       "<Figure size 432x288 with 1 Axes>"
      ]
     },
     "metadata": {
      "needs_background": "light"
     },
     "output_type": "display_data"
    }
   ],
   "source": [
    "session_lengths[session_lengths <= 100].hist(bins=100)"
   ]
  },
  {
   "cell_type": "code",
   "execution_count": 65,
   "id": "cc9661f9-782d-4e6b-8bef-f62ec6181e8a",
   "metadata": {},
   "outputs": [],
   "source": [
    "data.loc[:, ['time', 'session_id', 'request_uri']].to_csv('data_with_sess_id.csv', index=False)"
   ]
  },
  {
   "cell_type": "code",
   "execution_count": null,
   "id": "440abec7-9a91-47df-8a19-57154985a969",
   "metadata": {},
   "outputs": [],
   "source": []
  }
 ],
 "metadata": {
  "kernelspec": {
   "display_name": "Python 3 (ipykernel)",
   "language": "python",
   "name": "python3"
  },
  "language_info": {
   "codemirror_mode": {
    "name": "ipython",
    "version": 3
   },
   "file_extension": ".py",
   "mimetype": "text/x-python",
   "name": "python",
   "nbconvert_exporter": "python",
   "pygments_lexer": "ipython3",
   "version": "3.8.10"
  }
 },
 "nbformat": 4,
 "nbformat_minor": 5
}
