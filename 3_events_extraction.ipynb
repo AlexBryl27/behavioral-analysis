{
 "cells": [
  {
   "cell_type": "markdown",
   "id": "abdd1312-0ba0-40ad-a4fe-1b29a0c43830",
   "metadata": {},
   "source": [
    "# Events extraction\n",
    "\n",
    "На данном шаге мы выделим ограниченный набор событий для каждого запроса. \n",
    "\n",
    "__Для чего это нужно.__\n",
    "\n",
    "Запрос вида /f13erj23231.jpg ничего нам не скажет о характере самого запроса, а сам по себе такой запрос крайне уникален. Нам достаточно знать, что это загрузка изображения и мы можем заменить набор символов специальным токеном. Тогда запрос примет вид /image. И несколько запросов такого вида подряд будут говорить уже о загрузке статики при переходе на страницу, например.\n",
    "\n",
    "Количество таких токенов задается экспертно при исследовании данных. Для замены request_uri на event каждый запрос разбивается на подстроки по символу / и каждая подстрока матчится с набором регулярных выражений, соответствующих нашим специальным токенам."
   ]
  },
  {
   "cell_type": "code",
   "execution_count": 1,
   "id": "4fc2af35-049a-4925-9420-0f78fe6e91bc",
   "metadata": {},
   "outputs": [],
   "source": [
    "import pandas as pd\n",
    "from tqdm.notebook import tqdm\n",
    "\n",
    "import re\n",
    "import matplotlib.pyplot as plt"
   ]
  },
  {
   "cell_type": "code",
   "execution_count": 2,
   "id": "1c37abf2-3167-443f-bef6-0becb823e928",
   "metadata": {},
   "outputs": [],
   "source": [
    "dtype = {\n",
    "    'time': 'str',\n",
    "    'session_id': 'uint',\n",
    "    'request_uri': 'str',\n",
    "}"
   ]
  },
  {
   "cell_type": "code",
   "execution_count": 3,
   "id": "ba510b0b-9e9c-4495-87ff-6233349de919",
   "metadata": {},
   "outputs": [
    {
     "data": {
      "text/html": [
       "<div>\n",
       "<style scoped>\n",
       "    .dataframe tbody tr th:only-of-type {\n",
       "        vertical-align: middle;\n",
       "    }\n",
       "\n",
       "    .dataframe tbody tr th {\n",
       "        vertical-align: top;\n",
       "    }\n",
       "\n",
       "    .dataframe thead th {\n",
       "        text-align: right;\n",
       "    }\n",
       "</style>\n",
       "<table border=\"1\" class=\"dataframe\">\n",
       "  <thead>\n",
       "    <tr style=\"text-align: right;\">\n",
       "      <th></th>\n",
       "      <th>time</th>\n",
       "      <th>session_id</th>\n",
       "      <th>request_uri</th>\n",
       "    </tr>\n",
       "  </thead>\n",
       "  <tbody>\n",
       "    <tr>\n",
       "      <th>0</th>\n",
       "      <td>2022-02-07 18:43:07.694</td>\n",
       "      <td>3059192787115454724</td>\n",
       "      <td>/</td>\n",
       "    </tr>\n",
       "    <tr>\n",
       "      <th>1</th>\n",
       "      <td>2022-02-07 18:43:12.379</td>\n",
       "      <td>3059192787115454724</td>\n",
       "      <td>/</td>\n",
       "    </tr>\n",
       "    <tr>\n",
       "      <th>2</th>\n",
       "      <td>2022-02-07 18:43:14.382</td>\n",
       "      <td>3059192787115454724</td>\n",
       "      <td>/view/theme/example2019/js/libs/widjet.js</td>\n",
       "    </tr>\n",
       "    <tr>\n",
       "      <th>3</th>\n",
       "      <td>2022-02-07 18:43:17.314</td>\n",
       "      <td>3059192787115454724</td>\n",
       "      <td>/xhr/cart/</td>\n",
       "    </tr>\n",
       "    <tr>\n",
       "      <th>4</th>\n",
       "      <td>2022-02-07 18:43:17.330</td>\n",
       "      <td>3059192787115454724</td>\n",
       "      <td>/xhr/productsliders/?slider_id=18</td>\n",
       "    </tr>\n",
       "  </tbody>\n",
       "</table>\n",
       "</div>"
      ],
      "text/plain": [
       "                      time           session_id  \\\n",
       "0  2022-02-07 18:43:07.694  3059192787115454724   \n",
       "1  2022-02-07 18:43:12.379  3059192787115454724   \n",
       "2  2022-02-07 18:43:14.382  3059192787115454724   \n",
       "3  2022-02-07 18:43:17.314  3059192787115454724   \n",
       "4  2022-02-07 18:43:17.330  3059192787115454724   \n",
       "\n",
       "                                 request_uri  \n",
       "0                                          /  \n",
       "1                                          /  \n",
       "2  /view/theme/example2019/js/libs/widjet.js  \n",
       "3                                 /xhr/cart/  \n",
       "4          /xhr/productsliders/?slider_id=18  "
      ]
     },
     "execution_count": 3,
     "metadata": {},
     "output_type": "execute_result"
    }
   ],
   "source": [
    "data = pd.read_csv('data_with_sess_id.csv', dtype=dtype)\n",
    "data.head()"
   ]
  },
  {
   "cell_type": "code",
   "execution_count": 4,
   "id": "46fbe4f9-6916-416d-968c-992d46ce5344",
   "metadata": {},
   "outputs": [
    {
     "data": {
      "text/plain": [
       "298125"
      ]
     },
     "execution_count": 4,
     "metadata": {},
     "output_type": "execute_result"
    }
   ],
   "source": [
    "data.request_uri.nunique()"
   ]
  },
  {
   "cell_type": "code",
   "execution_count": 5,
   "id": "64c07d7e-5ec1-4743-9108-7286fc481f7c",
   "metadata": {},
   "outputs": [
    {
     "data": {
      "text/plain": [
       "/xhr/cart/                 386375\n",
       "/getproductsize/342434/    206872\n",
       "/getproductsize/344422/    163046\n",
       "/getproductsize/338875/    157709\n",
       "/getproductsize/342531/    157462\n",
       "/getproductsize/314556/    141074\n",
       "/sp-push-worker-fb.js      100269\n",
       "/xhr/recommblock/           89922\n",
       "/xhr/lastviewed/            86583\n",
       "/getproductsize/335987/     74841\n",
       "Name: request_uri, dtype: int64"
      ]
     },
     "execution_count": 5,
     "metadata": {},
     "output_type": "execute_result"
    }
   ],
   "source": [
    "data.request_uri.value_counts()[:10]"
   ]
  },
  {
   "cell_type": "code",
   "execution_count": 6,
   "id": "7786d1bd-8d0d-438e-a0f6-b4c5e08d2b8f",
   "metadata": {},
   "outputs": [],
   "source": [
    "uri_depth = data.request_uri.apply(lambda x: len(x.split('/'))).to_list()"
   ]
  },
  {
   "cell_type": "markdown",
   "id": "89fb4c19-d913-4f0e-8526-3be87d078a97",
   "metadata": {},
   "source": [
    "Так же полезно узнать глубину запросов в данных, до которой можно обрезать запрос, т.к. дальнейшая часть запроса не будет нести никакой полезной информации. Ограничим глубину запроса до 5."
   ]
  },
  {
   "cell_type": "code",
   "execution_count": 7,
   "id": "931ff187-be2d-4c11-8e13-905c2c5ec4f3",
   "metadata": {},
   "outputs": [
    {
     "data": {
      "image/png": "[encoded data removed]",
      "text/plain": [
       "<Figure size 432x288 with 1 Axes>"
      ]
     },
     "metadata": {
      "needs_background": "light"
     },
     "output_type": "display_data"
    }
   ],
   "source": [
    "plt.hist(uri_depth, bins=20)\n",
    "plt.title('Uri depth distribution')\n",
    "plt.show()"
   ]
  },
  {
   "cell_type": "code",
   "execution_count": 8,
   "id": "694570ab-9e2a-49fd-9f66-61417ffdaae6",
   "metadata": {},
   "outputs": [],
   "source": [
    "patterns = {\n",
    "    \"hypertext\": re.compile(\"\\.(s?html?|S?HTML?)$\"),\n",
    "    \"style\": re.compile(\"\\.(less|css)$\"),\n",
    "    \"script\": re.compile(\"\\.(js)$\"),\n",
    "    \"map\": re.compile(\"\\.(js|css)\\\\.map$\"),\n",
    "    \"config\": re.compile(\"\\.(xml|json|yml)$\"),\n",
    "    \"file\": re.compile(\"\\.(md|pdf|PDF|zip|rtf|docx?|woff2?|txt|csv|(t|o)tf|eot|xlsx|do|pptx?)$\"),\n",
    "    \"video_audio\": re.compile(\"\\.(avi|mp(4|3)|vob|mov|mkv|f(l|4)v|wm(v|a)|3g(p|2)|webm|wav|dvd|ogv|(f|a)lac|aac|ogg|ts)$\"),\n",
    "    \"image\": re.compile(\"\\.(avif|gif|GIF|jpe?g|JPG|jfif|pjpeg|pjp|a?png|PNG|svg|webp|ico|cgi|bmp)$\"),\n",
    "    \"digits\": re.compile(\"^\\d+$\"),\n",
    "    \"hash\": re.compile(\"^(0?[xX])?([0-9a-fA-F]|\\-)+$\"),\n",
    "    \"unicode\": re.compile(\"(%\\w+)+%?\"),\n",
    "    \"content\": re.compile(\"^(-|_)?([a-zA-Z\\d]*)((-|_|\\d)+[a-zA-Z\\d]*)*(-|_|\\d)+[a-zA-Z\\d]*$\"),\n",
    "    \"version\": re.compile(\"\\.?(\\d+\\.)*\\d+$\")\n",
    "}"
   ]
  },
  {
   "cell_type": "code",
   "execution_count": 20,
   "id": "c86d1791-18d5-4980-96d6-c6a1f78dfc48",
   "metadata": {},
   "outputs": [],
   "source": [
    "def get_event(uri, depth=5):\n",
    "    uri = uri.split('?')[0]\n",
    "    result = []\n",
    "    for element in uri.split('/')[:depth]:\n",
    "        for pattern_name, pattern in patterns.items():\n",
    "            match = pattern.search(element)\n",
    "            if match:\n",
    "                result.append(pattern_name)\n",
    "                break\n",
    "        if not match:\n",
    "            result.append(element)\n",
    "    return '/'.join(result)"
   ]
  },
  {
   "cell_type": "code",
   "execution_count": 18,
   "id": "1aa10fa7-3f3b-444c-954c-a41ffa9c4291",
   "metadata": {},
   "outputs": [
    {
     "data": {
      "text/plain": [
       "'/media/catalog/product/cache/1/image/607x607/9df78eab33525d08d6e5fb8d27136e95/s/h/shoes-red-wing-9042-beckman-oxford-brown-7.jpg'"
      ]
     },
     "execution_count": 18,
     "metadata": {},
     "output_type": "execute_result"
    }
   ],
   "source": [
    "s = data[data.request_uri.apply(lambda x: len(x.split('/')) > 10)].request_uri.values[1]\n",
    "s"
   ]
  },
  {
   "cell_type": "markdown",
   "id": "ca349908-3b4d-4d4d-93c1-6231d40c4da5",
   "metadata": {},
   "source": [
    "Для примера не будем ограничивать глубину запроса"
   ]
  },
  {
   "cell_type": "code",
   "execution_count": 22,
   "id": "b781472b-5562-407a-9eec-063662cbfbff",
   "metadata": {},
   "outputs": [
    {
     "data": {
      "text/plain": [
       "'/media/catalog/product/cache/digits/image/content/hash/s/h/image'"
      ]
     },
     "execution_count": 22,
     "metadata": {},
     "output_type": "execute_result"
    }
   ],
   "source": [
    "get_event(s, 20)"
   ]
  },
  {
   "cell_type": "code",
   "execution_count": 12,
   "id": "7f871b6b-ef95-46fd-bef1-8a21ad7ac635",
   "metadata": {},
   "outputs": [
    {
     "name": "stdout",
     "output_type": "stream",
     "text": [
      "CPU times: user 2.47 s, sys: 9.94 ms, total: 2.48 s\n",
      "Wall time: 2.48 s\n"
     ]
    }
   ],
   "source": [
    "%%time\n",
    "uniq_requests = data[['request_uri']].drop_duplicates()\n",
    "uniq_requests['event'] = uniq_requests.request_uri.apply(get_event)"
   ]
  },
  {
   "cell_type": "code",
   "execution_count": 13,
   "id": "536d641b-14d8-4cdd-bcbd-8b93d92a8a48",
   "metadata": {},
   "outputs": [],
   "source": [
    "data = data.merge(uniq_requests, on='request_uri', how='left')"
   ]
  },
  {
   "cell_type": "markdown",
   "id": "309208c1-c492-48f0-bada-ede23efb7ba8",
   "metadata": {},
   "source": [
    "300 тысяч уникальных запросов превратились в 1500 уникальных событий"
   ]
  },
  {
   "cell_type": "code",
   "execution_count": 14,
   "id": "6e0c2dd9-d9cc-41aa-90e2-ae31a2e5cd63",
   "metadata": {},
   "outputs": [
    {
     "data": {
      "text/plain": [
       "1574"
      ]
     },
     "execution_count": 14,
     "metadata": {},
     "output_type": "execute_result"
    }
   ],
   "source": [
    "data.event.nunique()"
   ]
  },
  {
   "cell_type": "code",
   "execution_count": 15,
   "id": "1c0cd971-e942-4f03-a757-540c3de6a996",
   "metadata": {},
   "outputs": [
    {
     "data": {
      "text/plain": [
       "/getproductsize/digits/    2130291\n",
       "/goods/digits/content/      611701\n",
       "/xhr/cart/                  386375\n",
       "/yeezy/                     211886\n",
       "/nike/                      205255\n",
       "/image                      196788\n",
       "/new/                       178203\n",
       "/goods/digits/hash/         138875\n",
       "/obuv/                      131468\n",
       "/getproductinfo/digits      116704\n",
       "Name: event, dtype: int64"
      ]
     },
     "execution_count": 15,
     "metadata": {},
     "output_type": "execute_result"
    }
   ],
   "source": [
    "data.event.value_counts()[:10]"
   ]
  },
  {
   "cell_type": "code",
   "execution_count": 16,
   "id": "7d0d3a46-25d3-46a3-8122-52695056d029",
   "metadata": {},
   "outputs": [
    {
     "data": {
      "text/plain": [
       "/muzhskoe/content/ellesse/             1\n",
       "/muzhskoe/aksessuary/hestra/           1\n",
       "/content/bagazh/ryukzaki/fjallraven    1\n",
       "/zhenskoe/odezhda/bryuki/content       1\n",
       "/goods/digits/content/https:           1\n",
       "/zhenskoe/aksessuary/shapki/content    1\n",
       "/muzhskoe/odezhda/polo/evisu           1\n",
       "/zhenskoe/aksessuary/panamy/stussy     1\n",
       "/goods/digits/hash/'                   1\n",
       "/muzhskoe/content/kurtki/nedorogie     1\n",
       "Name: event, dtype: int64"
      ]
     },
     "execution_count": 16,
     "metadata": {},
     "output_type": "execute_result"
    }
   ],
   "source": [
    "data.event.value_counts(ascending=True)[:10]"
   ]
  },
  {
   "cell_type": "code",
   "execution_count": 17,
   "id": "1f314bc3-34a4-4082-af0c-bb3849d29fd3",
   "metadata": {},
   "outputs": [],
   "source": [
    "data.loc[:, ['time', 'session_id', 'event']].to_csv('data_with_events.csv', index=False)"
   ]
  },
  {
   "cell_type": "code",
   "execution_count": null,
   "id": "20cebe91-d2a1-490c-9574-c12c57a0074a",
   "metadata": {},
   "outputs": [],
   "source": []
  }
 ],
 "metadata": {
  "kernelspec": {
   "display_name": "Python 3 (ipykernel)",
   "language": "python",
   "name": "python3"
  },
  "language_info": {
   "codemirror_mode": {
    "name": "ipython",
    "version": 3
   },
   "file_extension": ".py",
   "mimetype": "text/x-python",
   "name": "python",
   "nbconvert_exporter": "python",
   "pygments_lexer": "ipython3",
   "version": "3.8.10"
  }
 },
 "nbformat": 4,
 "nbformat_minor": 5
}
